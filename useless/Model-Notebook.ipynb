{
 "metadata": {
  "language_info": {
   "codemirror_mode": {
    "name": "ipython",
    "version": 3
   },
   "file_extension": ".py",
   "mimetype": "text/x-python",
   "name": "python",
   "nbconvert_exporter": "python",
   "pygments_lexer": "ipython3",
   "version": "3.7.4-final"
  },
  "orig_nbformat": 2,
  "kernelspec": {
   "name": "python3",
   "display_name": "Python 3"
  }
 },
 "nbformat": 4,
 "nbformat_minor": 2,
 "cells": [
  {
   "cell_type": "code",
   "execution_count": 2,
   "metadata": {},
   "outputs": [],
   "source": [
    "import pandas as pd\n",
    "import numpy as np\n",
    "import matplotlib.pyplot as plt\n",
    "import seaborn as sns\n",
    "\n",
    "%matplotlib inline"
   ]
  },
  {
   "cell_type": "code",
   "execution_count": 100,
   "metadata": {},
   "outputs": [
    {
     "output_type": "execute_result",
     "data": {
      "text/plain": [
       "         make    model  priceUSD  year     condition  mileage(kilometers)  \\\n",
       "0       honda   accord       565  1993  with mileage             960015.0   \n",
       "1        ford   fusion      5550  2008  with mileage             172000.0   \n",
       "2      nissan    teana      8300  2008  with mileage             223000.0   \n",
       "3  volkswagen      fox      3300  2005  with mileage             140000.0   \n",
       "4      nissan  primera      2450  2002   with damage             413000.0   \n",
       "\n",
       "  fuel_type  volume(cm3)     color transmission         drive_unit segment  \n",
       "0    petrol       2000.0     black    mechanics  front-wheel drive       D  \n",
       "1    diesel       1400.0    silver    mechanics  front-wheel drive       M  \n",
       "2    petrol       2500.0    purple         auto  front-wheel drive       D  \n",
       "3    petrol       1200.0      blue    mechanics  front-wheel drive       A  \n",
       "4    diesel       2200.0  burgundy    mechanics  front-wheel drive       D  "
      ],
      "text/html": "<div>\n<style scoped>\n    .dataframe tbody tr th:only-of-type {\n        vertical-align: middle;\n    }\n\n    .dataframe tbody tr th {\n        vertical-align: top;\n    }\n\n    .dataframe thead th {\n        text-align: right;\n    }\n</style>\n<table border=\"1\" class=\"dataframe\">\n  <thead>\n    <tr style=\"text-align: right;\">\n      <th></th>\n      <th>make</th>\n      <th>model</th>\n      <th>priceUSD</th>\n      <th>year</th>\n      <th>condition</th>\n      <th>mileage(kilometers)</th>\n      <th>fuel_type</th>\n      <th>volume(cm3)</th>\n      <th>color</th>\n      <th>transmission</th>\n      <th>drive_unit</th>\n      <th>segment</th>\n    </tr>\n  </thead>\n  <tbody>\n    <tr>\n      <th>0</th>\n      <td>honda</td>\n      <td>accord</td>\n      <td>565</td>\n      <td>1993</td>\n      <td>with mileage</td>\n      <td>960015.0</td>\n      <td>petrol</td>\n      <td>2000.0</td>\n      <td>black</td>\n      <td>mechanics</td>\n      <td>front-wheel drive</td>\n      <td>D</td>\n    </tr>\n    <tr>\n      <th>1</th>\n      <td>ford</td>\n      <td>fusion</td>\n      <td>5550</td>\n      <td>2008</td>\n      <td>with mileage</td>\n      <td>172000.0</td>\n      <td>diesel</td>\n      <td>1400.0</td>\n      <td>silver</td>\n      <td>mechanics</td>\n      <td>front-wheel drive</td>\n      <td>M</td>\n    </tr>\n    <tr>\n      <th>2</th>\n      <td>nissan</td>\n      <td>teana</td>\n      <td>8300</td>\n      <td>2008</td>\n      <td>with mileage</td>\n      <td>223000.0</td>\n      <td>petrol</td>\n      <td>2500.0</td>\n      <td>purple</td>\n      <td>auto</td>\n      <td>front-wheel drive</td>\n      <td>D</td>\n    </tr>\n    <tr>\n      <th>3</th>\n      <td>volkswagen</td>\n      <td>fox</td>\n      <td>3300</td>\n      <td>2005</td>\n      <td>with mileage</td>\n      <td>140000.0</td>\n      <td>petrol</td>\n      <td>1200.0</td>\n      <td>blue</td>\n      <td>mechanics</td>\n      <td>front-wheel drive</td>\n      <td>A</td>\n    </tr>\n    <tr>\n      <th>4</th>\n      <td>nissan</td>\n      <td>primera</td>\n      <td>2450</td>\n      <td>2002</td>\n      <td>with damage</td>\n      <td>413000.0</td>\n      <td>diesel</td>\n      <td>2200.0</td>\n      <td>burgundy</td>\n      <td>mechanics</td>\n      <td>front-wheel drive</td>\n      <td>D</td>\n    </tr>\n  </tbody>\n</table>\n</div>"
     },
     "metadata": {},
     "execution_count": 100
    }
   ],
   "source": [
    "df = pd.read_csv('Data\\cars_price.csv', index_col=0)\n",
    "df.head()"
   ]
  },
  {
   "cell_type": "code",
   "execution_count": 101,
   "metadata": {},
   "outputs": [
    {
     "output_type": "stream",
     "name": "stdout",
     "text": [
      "Description of training set\nShape: \t\t\t (40000, 12)\n#NaNs: \t\t\t 5130\n"
     ]
    }
   ],
   "source": [
    "def details(df):\n",
    "  print(\"Description of training set\")\n",
    "  print(\"Shape: \\t\\t\\t\", df.shape)\n",
    "  print(\"#NaNs: \\t\\t\\t\", df.isna().sum().sum()) \n",
    "  \n",
    "details(df)"
   ]
  },
  {
   "cell_type": "code",
   "execution_count": 102,
   "metadata": {},
   "outputs": [
    {
     "output_type": "stream",
     "name": "stdout",
     "text": [
      "<class 'pandas.core.frame.DataFrame'>\nInt64Index: 40000 entries, 0 to 39999\nData columns (total 12 columns):\n #   Column               Non-Null Count  Dtype  \n---  ------               --------------  -----  \n 0   make                 40000 non-null  object \n 1   model                40000 non-null  object \n 2   priceUSD             40000 non-null  int64  \n 3   year                 40000 non-null  int64  \n 4   condition            40000 non-null  object \n 5   mileage(kilometers)  40000 non-null  float64\n 6   fuel_type            40000 non-null  object \n 7   volume(cm3)          39970 non-null  float64\n 8   color                40000 non-null  object \n 9   transmission         40000 non-null  object \n 10  drive_unit           38655 non-null  object \n 11  segment              36245 non-null  object \ndtypes: float64(2), int64(2), object(8)\nmemory usage: 4.0+ MB\n"
     ]
    }
   ],
   "source": [
    "df.info()"
   ]
  },
  {
   "cell_type": "code",
   "execution_count": 103,
   "metadata": {},
   "outputs": [
    {
     "output_type": "execute_result",
     "data": {
      "text/plain": [
       "['volume(cm3)', 'drive_unit', 'segment']"
      ]
     },
     "metadata": {},
     "execution_count": 103
    }
   ],
   "source": [
    "# Columns containing NAN\n",
    "def ctd(df):\n",
    "  columns = df.columns[df.isna().any()].tolist()\n",
    "  return columns\n",
    "ctd(df)"
   ]
  },
  {
   "cell_type": "code",
   "execution_count": 104,
   "metadata": {},
   "outputs": [
    {
     "output_type": "stream",
     "name": "stdout",
     "text": [
      "Description of training set\nShape: \t\t\t (35016, 12)\n#NaNs: \t\t\t 0\n"
     ]
    }
   ],
   "source": [
    "df.dropna(inplace=True)\n",
    "details(df)"
   ]
  },
  {
   "cell_type": "code",
   "execution_count": 105,
   "metadata": {},
   "outputs": [
    {
     "output_type": "execute_result",
     "data": {
      "text/plain": [
       "         make    model  priceUSD  year     condition  mileage(kilometers)  \\\n",
       "0       honda   accord       565    27  with mileage             960015.0   \n",
       "1        ford   fusion      5550    12  with mileage             172000.0   \n",
       "2      nissan    teana      8300    12  with mileage             223000.0   \n",
       "3  volkswagen      fox      3300    15  with mileage             140000.0   \n",
       "4      nissan  primera      2450    18   with damage             413000.0   \n",
       "\n",
       "  fuel_type  volume(cm3)     color transmission         drive_unit segment  \n",
       "0    petrol       2000.0     black    mechanics  front-wheel drive       D  \n",
       "1    diesel       1400.0    silver    mechanics  front-wheel drive       M  \n",
       "2    petrol       2500.0    purple         auto  front-wheel drive       D  \n",
       "3    petrol       1200.0      blue    mechanics  front-wheel drive       A  \n",
       "4    diesel       2200.0  burgundy    mechanics  front-wheel drive       D  "
      ],
      "text/html": "<div>\n<style scoped>\n    .dataframe tbody tr th:only-of-type {\n        vertical-align: middle;\n    }\n\n    .dataframe tbody tr th {\n        vertical-align: top;\n    }\n\n    .dataframe thead th {\n        text-align: right;\n    }\n</style>\n<table border=\"1\" class=\"dataframe\">\n  <thead>\n    <tr style=\"text-align: right;\">\n      <th></th>\n      <th>make</th>\n      <th>model</th>\n      <th>priceUSD</th>\n      <th>year</th>\n      <th>condition</th>\n      <th>mileage(kilometers)</th>\n      <th>fuel_type</th>\n      <th>volume(cm3)</th>\n      <th>color</th>\n      <th>transmission</th>\n      <th>drive_unit</th>\n      <th>segment</th>\n    </tr>\n  </thead>\n  <tbody>\n    <tr>\n      <th>0</th>\n      <td>honda</td>\n      <td>accord</td>\n      <td>565</td>\n      <td>27</td>\n      <td>with mileage</td>\n      <td>960015.0</td>\n      <td>petrol</td>\n      <td>2000.0</td>\n      <td>black</td>\n      <td>mechanics</td>\n      <td>front-wheel drive</td>\n      <td>D</td>\n    </tr>\n    <tr>\n      <th>1</th>\n      <td>ford</td>\n      <td>fusion</td>\n      <td>5550</td>\n      <td>12</td>\n      <td>with mileage</td>\n      <td>172000.0</td>\n      <td>diesel</td>\n      <td>1400.0</td>\n      <td>silver</td>\n      <td>mechanics</td>\n      <td>front-wheel drive</td>\n      <td>M</td>\n    </tr>\n    <tr>\n      <th>2</th>\n      <td>nissan</td>\n      <td>teana</td>\n      <td>8300</td>\n      <td>12</td>\n      <td>with mileage</td>\n      <td>223000.0</td>\n      <td>petrol</td>\n      <td>2500.0</td>\n      <td>purple</td>\n      <td>auto</td>\n      <td>front-wheel drive</td>\n      <td>D</td>\n    </tr>\n    <tr>\n      <th>3</th>\n      <td>volkswagen</td>\n      <td>fox</td>\n      <td>3300</td>\n      <td>15</td>\n      <td>with mileage</td>\n      <td>140000.0</td>\n      <td>petrol</td>\n      <td>1200.0</td>\n      <td>blue</td>\n      <td>mechanics</td>\n      <td>front-wheel drive</td>\n      <td>A</td>\n    </tr>\n    <tr>\n      <th>4</th>\n      <td>nissan</td>\n      <td>primera</td>\n      <td>2450</td>\n      <td>18</td>\n      <td>with damage</td>\n      <td>413000.0</td>\n      <td>diesel</td>\n      <td>2200.0</td>\n      <td>burgundy</td>\n      <td>mechanics</td>\n      <td>front-wheel drive</td>\n      <td>D</td>\n    </tr>\n  </tbody>\n</table>\n</div>"
     },
     "metadata": {},
     "execution_count": 105
    }
   ],
   "source": [
    "import datetime\n",
    "df['year']=datetime.datetime.now().year-df['year']\n",
    "df.head()"
   ]
  },
  {
   "cell_type": "code",
   "execution_count": 48,
   "metadata": {},
   "outputs": [
    {
     "output_type": "stream",
     "name": "stdout",
     "text": [
      "Unique values for  make  :  51\nUnique values for  model  :  458\nUnique values for  priceUSD  :  2328\nUnique values for  year  :  62\nUnique values for  condition  :  3\nUnique values for  mileage(kilometers)  :  5755\nUnique values for  fuel_type  :  2\nUnique values for  volume(cm3)  :  352\nUnique values for  color  :  13\nUnique values for  transmission  :  2\nUnique values for  drive_unit  :  4\nUnique values for  segment  :  9\n"
     ]
    }
   ],
   "source": [
    "def description(df):\n",
    "  for cols in df.columns:\n",
    "    print('Unique values for ',cols,' : ',len(df[cols].unique()))\n",
    "description(df)"
   ]
  },
  {
   "source": [
    "## Model"
   ],
   "cell_type": "markdown",
   "metadata": {}
  },
  {
   "cell_type": "code",
   "execution_count": 109,
   "metadata": {},
   "outputs": [],
   "source": [
    "features =[ 'year', 'condition', 'mileage(kilometers)',\n",
    "       'fuel_type', 'volume(cm3)', 'color', 'transmission', 'drive_unit',\n",
    "       'segment']\n",
    "categorical = ['condition',\n",
    "       'fuel_type', 'color', 'transmission', 'drive_unit','segment']\n",
    "numerical = ['priceUSD','year','mileage(kilometers)','volume(cm3)']"
   ]
  },
  {
   "cell_type": "code",
   "execution_count": 110,
   "metadata": {},
   "outputs": [],
   "source": [
    "from sklearn.preprocessing import LabelEncoder"
   ]
  },
  {
   "cell_type": "code",
   "execution_count": null,
   "metadata": {},
   "outputs": [],
   "source": []
  },
  {
   "cell_type": "code",
   "execution_count": 111,
   "metadata": {},
   "outputs": [],
   "source": [
    "def encoding(df,categorical):\n",
    "  label = LabelEncoder()\n",
    "  df2= df\n",
    "  for feature in categorical:\n",
    "    df2[feature] =label.fit_transform(df[feature])\n",
    "  return df2"
   ]
  },
  {
   "cell_type": "code",
   "execution_count": 4,
   "metadata": {},
   "outputs": [
    {
     "output_type": "execute_result",
     "data": {
      "text/plain": [
       "(array([0, 0, 1, 2, 2], dtype=int64),\n",
       " Index(['Sun', 'Wed', 'Mon'], dtype='object'))"
      ]
     },
     "metadata": {},
     "execution_count": 4
    }
   ],
   "source": [
    "cat_list = ['Sun', 'Sun', 'Wed', 'Mon', 'Mon']\n",
    "encoded_data, mapping_index = pd.Series(cat_list).factorize()\n",
    "encoded_data, mapping_index"
   ]
  },
  {
   "cell_type": "code",
   "execution_count": 112,
   "metadata": {},
   "outputs": [
    {
     "output_type": "execute_result",
     "data": {
      "text/plain": [
       "         make    model  priceUSD  year  condition  mileage(kilometers)  \\\n",
       "0       honda   accord       565    27          2             960015.0   \n",
       "1        ford   fusion      5550    12          2             172000.0   \n",
       "2      nissan    teana      8300    12          2             223000.0   \n",
       "3  volkswagen      fox      3300    15          2             140000.0   \n",
       "4      nissan  primera      2450    18          1             413000.0   \n",
       "\n",
       "   fuel_type  volume(cm3)  color  transmission  drive_unit  segment  \n",
       "0          1       2000.0      0             1           1        3  \n",
       "1          0       1400.0     10             1           1        7  \n",
       "2          1       2500.0      8             0           1        3  \n",
       "3          1       1200.0      1             1           1        0  \n",
       "4          0       2200.0      3             1           1        3  "
      ],
      "text/html": "<div>\n<style scoped>\n    .dataframe tbody tr th:only-of-type {\n        vertical-align: middle;\n    }\n\n    .dataframe tbody tr th {\n        vertical-align: top;\n    }\n\n    .dataframe thead th {\n        text-align: right;\n    }\n</style>\n<table border=\"1\" class=\"dataframe\">\n  <thead>\n    <tr style=\"text-align: right;\">\n      <th></th>\n      <th>make</th>\n      <th>model</th>\n      <th>priceUSD</th>\n      <th>year</th>\n      <th>condition</th>\n      <th>mileage(kilometers)</th>\n      <th>fuel_type</th>\n      <th>volume(cm3)</th>\n      <th>color</th>\n      <th>transmission</th>\n      <th>drive_unit</th>\n      <th>segment</th>\n    </tr>\n  </thead>\n  <tbody>\n    <tr>\n      <th>0</th>\n      <td>honda</td>\n      <td>accord</td>\n      <td>565</td>\n      <td>27</td>\n      <td>2</td>\n      <td>960015.0</td>\n      <td>1</td>\n      <td>2000.0</td>\n      <td>0</td>\n      <td>1</td>\n      <td>1</td>\n      <td>3</td>\n    </tr>\n    <tr>\n      <th>1</th>\n      <td>ford</td>\n      <td>fusion</td>\n      <td>5550</td>\n      <td>12</td>\n      <td>2</td>\n      <td>172000.0</td>\n      <td>0</td>\n      <td>1400.0</td>\n      <td>10</td>\n      <td>1</td>\n      <td>1</td>\n      <td>7</td>\n    </tr>\n    <tr>\n      <th>2</th>\n      <td>nissan</td>\n      <td>teana</td>\n      <td>8300</td>\n      <td>12</td>\n      <td>2</td>\n      <td>223000.0</td>\n      <td>1</td>\n      <td>2500.0</td>\n      <td>8</td>\n      <td>0</td>\n      <td>1</td>\n      <td>3</td>\n    </tr>\n    <tr>\n      <th>3</th>\n      <td>volkswagen</td>\n      <td>fox</td>\n      <td>3300</td>\n      <td>15</td>\n      <td>2</td>\n      <td>140000.0</td>\n      <td>1</td>\n      <td>1200.0</td>\n      <td>1</td>\n      <td>1</td>\n      <td>1</td>\n      <td>0</td>\n    </tr>\n    <tr>\n      <th>4</th>\n      <td>nissan</td>\n      <td>primera</td>\n      <td>2450</td>\n      <td>18</td>\n      <td>1</td>\n      <td>413000.0</td>\n      <td>0</td>\n      <td>2200.0</td>\n      <td>3</td>\n      <td>1</td>\n      <td>1</td>\n      <td>3</td>\n    </tr>\n  </tbody>\n</table>\n</div>"
     },
     "metadata": {},
     "execution_count": 112
    }
   ],
   "source": [
    "dataset = encoding(df,categorical)\n",
    "dataset.head()"
   ]
  },
  {
   "cell_type": "code",
   "execution_count": 113,
   "metadata": {},
   "outputs": [
    {
     "output_type": "execute_result",
     "data": {
      "text/plain": [
       "((35016,), (35016, 9))"
      ]
     },
     "metadata": {},
     "execution_count": 113
    }
   ],
   "source": [
    "target = df['priceUSD']\n",
    "dataset = pd.DataFrame(data=dataset[features],columns=features)\n",
    "target.shape, dataset.shape"
   ]
  },
  {
   "cell_type": "code",
   "execution_count": 114,
   "metadata": {},
   "outputs": [
    {
     "output_type": "execute_result",
     "data": {
      "text/plain": [
       "   year  condition  mileage(kilometers)  fuel_type  volume(cm3)  color  \\\n",
       "0    27          2             960015.0          1       2000.0      0   \n",
       "1    12          2             172000.0          0       1400.0     10   \n",
       "2    12          2             223000.0          1       2500.0      8   \n",
       "3    15          2             140000.0          1       1200.0      1   \n",
       "4    18          1             413000.0          0       2200.0      3   \n",
       "\n",
       "   transmission  drive_unit  segment  \n",
       "0             1           1        3  \n",
       "1             1           1        7  \n",
       "2             0           1        3  \n",
       "3             1           1        0  \n",
       "4             1           1        3  "
      ],
      "text/html": "<div>\n<style scoped>\n    .dataframe tbody tr th:only-of-type {\n        vertical-align: middle;\n    }\n\n    .dataframe tbody tr th {\n        vertical-align: top;\n    }\n\n    .dataframe thead th {\n        text-align: right;\n    }\n</style>\n<table border=\"1\" class=\"dataframe\">\n  <thead>\n    <tr style=\"text-align: right;\">\n      <th></th>\n      <th>year</th>\n      <th>condition</th>\n      <th>mileage(kilometers)</th>\n      <th>fuel_type</th>\n      <th>volume(cm3)</th>\n      <th>color</th>\n      <th>transmission</th>\n      <th>drive_unit</th>\n      <th>segment</th>\n    </tr>\n  </thead>\n  <tbody>\n    <tr>\n      <th>0</th>\n      <td>27</td>\n      <td>2</td>\n      <td>960015.0</td>\n      <td>1</td>\n      <td>2000.0</td>\n      <td>0</td>\n      <td>1</td>\n      <td>1</td>\n      <td>3</td>\n    </tr>\n    <tr>\n      <th>1</th>\n      <td>12</td>\n      <td>2</td>\n      <td>172000.0</td>\n      <td>0</td>\n      <td>1400.0</td>\n      <td>10</td>\n      <td>1</td>\n      <td>1</td>\n      <td>7</td>\n    </tr>\n    <tr>\n      <th>2</th>\n      <td>12</td>\n      <td>2</td>\n      <td>223000.0</td>\n      <td>1</td>\n      <td>2500.0</td>\n      <td>8</td>\n      <td>0</td>\n      <td>1</td>\n      <td>3</td>\n    </tr>\n    <tr>\n      <th>3</th>\n      <td>15</td>\n      <td>2</td>\n      <td>140000.0</td>\n      <td>1</td>\n      <td>1200.0</td>\n      <td>1</td>\n      <td>1</td>\n      <td>1</td>\n      <td>0</td>\n    </tr>\n    <tr>\n      <th>4</th>\n      <td>18</td>\n      <td>1</td>\n      <td>413000.0</td>\n      <td>0</td>\n      <td>2200.0</td>\n      <td>3</td>\n      <td>1</td>\n      <td>1</td>\n      <td>3</td>\n    </tr>\n  </tbody>\n</table>\n</div>"
     },
     "metadata": {},
     "execution_count": 114
    }
   ],
   "source": [
    "dataset.head()"
   ]
  },
  {
   "cell_type": "code",
   "execution_count": 116,
   "metadata": {},
   "outputs": [],
   "source": [
    "from sklearn.preprocessing import MinMaxScaler"
   ]
  },
  {
   "cell_type": "code",
   "execution_count": 119,
   "metadata": {},
   "outputs": [],
   "source": [
    "def normalize(df,features):\n",
    "  mms = MinMaxScaler(feature_range=(0,10))\n",
    "  df[features] = mms.fit_transform(df[features])\n",
    "  return df"
   ]
  },
  {
   "cell_type": "code",
   "execution_count": 120,
   "metadata": {},
   "outputs": [],
   "source": [
    "df2 = dataset"
   ]
  },
  {
   "cell_type": "code",
   "execution_count": 127,
   "metadata": {},
   "outputs": [
    {
     "output_type": "execute_result",
     "data": {
      "text/plain": [
       "           year  condition  mileage(kilometers)  fuel_type  volume(cm3)  \\\n",
       "0      4.193548          2             0.960015          1     0.769231   \n",
       "1      1.774194          2             0.172000          0     0.461538   \n",
       "2      1.774194          2             0.223000          1     1.025641   \n",
       "3      2.258065          2             0.140000          1     0.358974   \n",
       "4      2.741935          1             0.413000          0     0.871795   \n",
       "...         ...        ...                  ...        ...          ...   \n",
       "39994  1.774194          2             0.278000          0     0.769231   \n",
       "39995  1.774194          2             0.214000          1     1.641026   \n",
       "39996  2.903226          2             0.295000          1     0.871795   \n",
       "39997  3.225806          2             0.000000          0     0.871795   \n",
       "39999  5.322581          2             0.272344          0     0.767692   \n",
       "\n",
       "       color  transmission  drive_unit  segment  \n",
       "0          0             1           1        3  \n",
       "1         10             1           1        7  \n",
       "2          8             0           1        3  \n",
       "3          1             1           1        0  \n",
       "4          3             1           1        3  \n",
       "...      ...           ...         ...      ...  \n",
       "39994      1             1           1        3  \n",
       "39995     10             0           0        6  \n",
       "39996      1             1           1        4  \n",
       "39997      7             1           3        3  \n",
       "39999     10             1           3        3  \n",
       "\n",
       "[35016 rows x 9 columns]"
      ],
      "text/html": "<div>\n<style scoped>\n    .dataframe tbody tr th:only-of-type {\n        vertical-align: middle;\n    }\n\n    .dataframe tbody tr th {\n        vertical-align: top;\n    }\n\n    .dataframe thead th {\n        text-align: right;\n    }\n</style>\n<table border=\"1\" class=\"dataframe\">\n  <thead>\n    <tr style=\"text-align: right;\">\n      <th></th>\n      <th>year</th>\n      <th>condition</th>\n      <th>mileage(kilometers)</th>\n      <th>fuel_type</th>\n      <th>volume(cm3)</th>\n      <th>color</th>\n      <th>transmission</th>\n      <th>drive_unit</th>\n      <th>segment</th>\n    </tr>\n  </thead>\n  <tbody>\n    <tr>\n      <th>0</th>\n      <td>4.193548</td>\n      <td>2</td>\n      <td>0.960015</td>\n      <td>1</td>\n      <td>0.769231</td>\n      <td>0</td>\n      <td>1</td>\n      <td>1</td>\n      <td>3</td>\n    </tr>\n    <tr>\n      <th>1</th>\n      <td>1.774194</td>\n      <td>2</td>\n      <td>0.172000</td>\n      <td>0</td>\n      <td>0.461538</td>\n      <td>10</td>\n      <td>1</td>\n      <td>1</td>\n      <td>7</td>\n    </tr>\n    <tr>\n      <th>2</th>\n      <td>1.774194</td>\n      <td>2</td>\n      <td>0.223000</td>\n      <td>1</td>\n      <td>1.025641</td>\n      <td>8</td>\n      <td>0</td>\n      <td>1</td>\n      <td>3</td>\n    </tr>\n    <tr>\n      <th>3</th>\n      <td>2.258065</td>\n      <td>2</td>\n      <td>0.140000</td>\n      <td>1</td>\n      <td>0.358974</td>\n      <td>1</td>\n      <td>1</td>\n      <td>1</td>\n      <td>0</td>\n    </tr>\n    <tr>\n      <th>4</th>\n      <td>2.741935</td>\n      <td>1</td>\n      <td>0.413000</td>\n      <td>0</td>\n      <td>0.871795</td>\n      <td>3</td>\n      <td>1</td>\n      <td>1</td>\n      <td>3</td>\n    </tr>\n    <tr>\n      <th>...</th>\n      <td>...</td>\n      <td>...</td>\n      <td>...</td>\n      <td>...</td>\n      <td>...</td>\n      <td>...</td>\n      <td>...</td>\n      <td>...</td>\n      <td>...</td>\n    </tr>\n    <tr>\n      <th>39994</th>\n      <td>1.774194</td>\n      <td>2</td>\n      <td>0.278000</td>\n      <td>0</td>\n      <td>0.769231</td>\n      <td>1</td>\n      <td>1</td>\n      <td>1</td>\n      <td>3</td>\n    </tr>\n    <tr>\n      <th>39995</th>\n      <td>1.774194</td>\n      <td>2</td>\n      <td>0.214000</td>\n      <td>1</td>\n      <td>1.641026</td>\n      <td>10</td>\n      <td>0</td>\n      <td>0</td>\n      <td>6</td>\n    </tr>\n    <tr>\n      <th>39996</th>\n      <td>2.903226</td>\n      <td>2</td>\n      <td>0.295000</td>\n      <td>1</td>\n      <td>0.871795</td>\n      <td>1</td>\n      <td>1</td>\n      <td>1</td>\n      <td>4</td>\n    </tr>\n    <tr>\n      <th>39997</th>\n      <td>3.225806</td>\n      <td>2</td>\n      <td>0.000000</td>\n      <td>0</td>\n      <td>0.871795</td>\n      <td>7</td>\n      <td>1</td>\n      <td>3</td>\n      <td>3</td>\n    </tr>\n    <tr>\n      <th>39999</th>\n      <td>5.322581</td>\n      <td>2</td>\n      <td>0.272344</td>\n      <td>0</td>\n      <td>0.767692</td>\n      <td>10</td>\n      <td>1</td>\n      <td>3</td>\n      <td>3</td>\n    </tr>\n  </tbody>\n</table>\n<p>35016 rows × 9 columns</p>\n</div>"
     },
     "metadata": {},
     "execution_count": 127
    }
   ],
   "source": [
    "data = normalize(df2,['year','mileage(kilometers)','volume(cm3)'])\n",
    "data"
   ]
  },
  {
   "cell_type": "code",
   "execution_count": 128,
   "metadata": {},
   "outputs": [],
   "source": [
    "from sklearn.model_selection import train_test_split"
   ]
  },
  {
   "cell_type": "code",
   "execution_count": 129,
   "metadata": {},
   "outputs": [
    {
     "output_type": "execute_result",
     "data": {
      "text/plain": [
       "((31514, 9), (31514,), (3502, 9), (3502,))"
      ]
     },
     "metadata": {},
     "execution_count": 129
    }
   ],
   "source": [
    "X_train, X_test, y_train, y_test = train_test_split(data,target, test_size=0.10, random_state=42)\n",
    "X_train.shape, y_train.shape, X_test.shape,  y_test.shape"
   ]
  },
  {
   "cell_type": "code",
   "execution_count": 132,
   "metadata": {},
   "outputs": [],
   "source": [
    "from xgboost import XGBRegressor"
   ]
  },
  {
   "cell_type": "code",
   "execution_count": 140,
   "metadata": {},
   "outputs": [
    {
     "output_type": "execute_result",
     "data": {
      "text/plain": [
       "XGBRegressor(base_score=0.5, booster='gbtree', colsample_bylevel=1,\n",
       "             colsample_bynode=1, colsample_bytree=1, gamma=0, gpu_id=-1,\n",
       "             importance_type='gain', interaction_constraints='',\n",
       "             learning_rate=0.1, max_delta_step=0, max_depth=3,\n",
       "             min_child_weight=3, missing=nan, monotone_constraints='()',\n",
       "             n_estimators=1000, n_jobs=-1, num_parallel_tree=1,\n",
       "             objective='reg:squarederror', random_state=0, reg_alpha=0.001,\n",
       "             reg_lambda=1e-06, scale_pos_weight=1, subsample=1,\n",
       "             tree_method='exact', validate_parameters=1, verbosity=None)"
      ]
     },
     "metadata": {},
     "execution_count": 140
    }
   ],
   "source": [
    "XGB = XGBRegressor(max_depth=3,learning_rate=0.1,n_estimators=1000,reg_alpha=0.001,reg_lambda=0.000001,n_jobs=-1,min_child_weight=3)\n",
    "XGB.fit(X_train,y_train)"
   ]
  },
  {
   "cell_type": "code",
   "execution_count": 141,
   "metadata": {},
   "outputs": [
    {
     "output_type": "stream",
     "name": "stdout",
     "text": [
      "Training score: 0.9239268183299446 Test Score: 0.8940838827072066\n"
     ]
    }
   ],
   "source": [
    "print (\"Training score:\",XGB.score(X_train,y_train),\"Test Score:\",XGB.score(X_test,y_test))"
   ]
  },
  {
   "cell_type": "code",
   "execution_count": 144,
   "metadata": {},
   "outputs": [
    {
     "output_type": "execute_result",
     "data": {
      "text/plain": [
       "array([1292.5219, 2067.2688, 6732.659 , ..., 9213.895 , 6883.6934,\n",
       "       5853.883 ], dtype=float32)"
      ]
     },
     "metadata": {},
     "execution_count": 144
    }
   ],
   "source": [
    "y_test_pred = XGB.predict(X_test)\n",
    "y_test_pred"
   ]
  },
  {
   "cell_type": "code",
   "execution_count": 154,
   "metadata": {},
   "outputs": [
    {
     "output_type": "execute_result",
     "data": {
      "text/plain": [
       "       year  condition  mileage(kilometers)  fuel_type  volume(cm3)  color  \\\n",
       "0  5.483871          2             0.444444          0     0.769231      1   \n",
       "\n",
       "   transmission  drive_unit  segment  \n",
       "0             1           1        4  "
      ],
      "text/html": "<div>\n<style scoped>\n    .dataframe tbody tr th:only-of-type {\n        vertical-align: middle;\n    }\n\n    .dataframe tbody tr th {\n        vertical-align: top;\n    }\n\n    .dataframe thead th {\n        text-align: right;\n    }\n</style>\n<table border=\"1\" class=\"dataframe\">\n  <thead>\n    <tr style=\"text-align: right;\">\n      <th></th>\n      <th>year</th>\n      <th>condition</th>\n      <th>mileage(kilometers)</th>\n      <th>fuel_type</th>\n      <th>volume(cm3)</th>\n      <th>color</th>\n      <th>transmission</th>\n      <th>drive_unit</th>\n      <th>segment</th>\n    </tr>\n  </thead>\n  <tbody>\n    <tr>\n      <th>0</th>\n      <td>5.483871</td>\n      <td>2</td>\n      <td>0.444444</td>\n      <td>0</td>\n      <td>0.769231</td>\n      <td>1</td>\n      <td>1</td>\n      <td>1</td>\n      <td>4</td>\n    </tr>\n  </tbody>\n</table>\n</div>"
     },
     "metadata": {},
     "execution_count": 154
    }
   ],
   "source": [
    "dictionary = {\n",
    "    'year':[5.483871],\n",
    "     'condition':[2],\n",
    "      'mileage(kilometers)':[0.444444],\n",
    "       'fuel_type':[0],\n",
    "        'volume(cm3)':[0.769231],\n",
    "         'color':[1],\n",
    "          'transmission':[1],\n",
    "           'drive_unit':[1],\n",
    "            'segment':[4]\n",
    "}\n",
    "test = pd.DataFrame(data=dictionary)\n",
    "test"
   ]
  },
  {
   "cell_type": "code",
   "execution_count": 157,
   "metadata": {},
   "outputs": [
    {
     "output_type": "stream",
     "name": "stdout",
     "text": [
      "1292.5219\n"
     ]
    }
   ],
   "source": [
    "print(XGB.predict(test)[0])"
   ]
  },
  {
   "cell_type": "code",
   "execution_count": null,
   "metadata": {},
   "outputs": [],
   "source": []
  }
 ]
}