{
 "metadata": {
  "language_info": {
   "codemirror_mode": {
    "name": "ipython",
    "version": 3
   },
   "file_extension": ".py",
   "mimetype": "text/x-python",
   "name": "python",
   "nbconvert_exporter": "python",
   "pygments_lexer": "ipython3",
   "version": "3.7.4-final"
  },
  "orig_nbformat": 2,
  "kernelspec": {
   "name": "python3",
   "display_name": "Python 3"
  }
 },
 "nbformat": 4,
 "nbformat_minor": 2,
 "cells": [
  {
   "cell_type": "code",
   "execution_count": 41,
   "metadata": {},
   "outputs": [],
   "source": [
    "import pandas as pd\n",
    "import numpy as np\n",
    "import matplotlib as plt\n",
    "import seaborn as sns"
   ]
  },
  {
   "cell_type": "code",
   "execution_count": 42,
   "metadata": {},
   "outputs": [
    {
     "output_type": "execute_result",
     "data": {
      "text/plain": [
       "         make    model  priceUSD  year     condition  mileage(kilometers)  \\\n",
       "0       honda   accord       565  1993  with mileage             960015.0   \n",
       "1        ford   fusion      5550  2008  with mileage             172000.0   \n",
       "2      nissan    teana      8300  2008  with mileage             223000.0   \n",
       "3  volkswagen      fox      3300  2005  with mileage             140000.0   \n",
       "4      nissan  primera      2450  2002   with damage             413000.0   \n",
       "\n",
       "  fuel_type  volume(cm3)     color transmission         drive_unit segment  \n",
       "0    petrol       2000.0     black    mechanics  front-wheel drive       D  \n",
       "1    diesel       1400.0    silver    mechanics  front-wheel drive       M  \n",
       "2    petrol       2500.0    purple         auto  front-wheel drive       D  \n",
       "3    petrol       1200.0      blue    mechanics  front-wheel drive       A  \n",
       "4    diesel       2200.0  burgundy    mechanics  front-wheel drive       D  "
      ],
      "text/html": "<div>\n<style scoped>\n    .dataframe tbody tr th:only-of-type {\n        vertical-align: middle;\n    }\n\n    .dataframe tbody tr th {\n        vertical-align: top;\n    }\n\n    .dataframe thead th {\n        text-align: right;\n    }\n</style>\n<table border=\"1\" class=\"dataframe\">\n  <thead>\n    <tr style=\"text-align: right;\">\n      <th></th>\n      <th>make</th>\n      <th>model</th>\n      <th>priceUSD</th>\n      <th>year</th>\n      <th>condition</th>\n      <th>mileage(kilometers)</th>\n      <th>fuel_type</th>\n      <th>volume(cm3)</th>\n      <th>color</th>\n      <th>transmission</th>\n      <th>drive_unit</th>\n      <th>segment</th>\n    </tr>\n  </thead>\n  <tbody>\n    <tr>\n      <th>0</th>\n      <td>honda</td>\n      <td>accord</td>\n      <td>565</td>\n      <td>1993</td>\n      <td>with mileage</td>\n      <td>960015.0</td>\n      <td>petrol</td>\n      <td>2000.0</td>\n      <td>black</td>\n      <td>mechanics</td>\n      <td>front-wheel drive</td>\n      <td>D</td>\n    </tr>\n    <tr>\n      <th>1</th>\n      <td>ford</td>\n      <td>fusion</td>\n      <td>5550</td>\n      <td>2008</td>\n      <td>with mileage</td>\n      <td>172000.0</td>\n      <td>diesel</td>\n      <td>1400.0</td>\n      <td>silver</td>\n      <td>mechanics</td>\n      <td>front-wheel drive</td>\n      <td>M</td>\n    </tr>\n    <tr>\n      <th>2</th>\n      <td>nissan</td>\n      <td>teana</td>\n      <td>8300</td>\n      <td>2008</td>\n      <td>with mileage</td>\n      <td>223000.0</td>\n      <td>petrol</td>\n      <td>2500.0</td>\n      <td>purple</td>\n      <td>auto</td>\n      <td>front-wheel drive</td>\n      <td>D</td>\n    </tr>\n    <tr>\n      <th>3</th>\n      <td>volkswagen</td>\n      <td>fox</td>\n      <td>3300</td>\n      <td>2005</td>\n      <td>with mileage</td>\n      <td>140000.0</td>\n      <td>petrol</td>\n      <td>1200.0</td>\n      <td>blue</td>\n      <td>mechanics</td>\n      <td>front-wheel drive</td>\n      <td>A</td>\n    </tr>\n    <tr>\n      <th>4</th>\n      <td>nissan</td>\n      <td>primera</td>\n      <td>2450</td>\n      <td>2002</td>\n      <td>with damage</td>\n      <td>413000.0</td>\n      <td>diesel</td>\n      <td>2200.0</td>\n      <td>burgundy</td>\n      <td>mechanics</td>\n      <td>front-wheel drive</td>\n      <td>D</td>\n    </tr>\n  </tbody>\n</table>\n</div>"
     },
     "metadata": {},
     "execution_count": 42
    }
   ],
   "source": [
    "df = pd.read_csv('Data\\cars_price.csv', index_col=0)\n",
    "df.head()"
   ]
  },
  {
   "cell_type": "code",
   "execution_count": 43,
   "metadata": {},
   "outputs": [
    {
     "output_type": "stream",
     "name": "stdout",
     "text": [
      "Description of training set\nShape: \t\t\t (40000, 12)\n#NaNs: \t\t\t 5130\n"
     ]
    }
   ],
   "source": [
    "def details(df):\n",
    "  print(\"Description of training set\")\n",
    "  print(\"Shape: \\t\\t\\t\", df.shape)\n",
    "  print(\"#NaNs: \\t\\t\\t\", df.isna().sum().sum()) \n",
    "  \n",
    "details(df)"
   ]
  },
  {
   "cell_type": "code",
   "execution_count": 44,
   "metadata": {},
   "outputs": [
    {
     "output_type": "stream",
     "name": "stdout",
     "text": [
      "<class 'pandas.core.frame.DataFrame'>\nInt64Index: 40000 entries, 0 to 39999\nData columns (total 12 columns):\n #   Column               Non-Null Count  Dtype  \n---  ------               --------------  -----  \n 0   make                 40000 non-null  object \n 1   model                40000 non-null  object \n 2   priceUSD             40000 non-null  int64  \n 3   year                 40000 non-null  int64  \n 4   condition            40000 non-null  object \n 5   mileage(kilometers)  40000 non-null  float64\n 6   fuel_type            40000 non-null  object \n 7   volume(cm3)          39970 non-null  float64\n 8   color                40000 non-null  object \n 9   transmission         40000 non-null  object \n 10  drive_unit           38655 non-null  object \n 11  segment              36245 non-null  object \ndtypes: float64(2), int64(2), object(8)\nmemory usage: 4.0+ MB\n"
     ]
    }
   ],
   "source": [
    "df.info()"
   ]
  },
  {
   "cell_type": "code",
   "execution_count": 45,
   "metadata": {},
   "outputs": [
    {
     "output_type": "execute_result",
     "data": {
      "text/plain": [
       "['volume(cm3)', 'drive_unit', 'segment']"
      ]
     },
     "metadata": {},
     "execution_count": 45
    }
   ],
   "source": [
    "# Columns containing NAN\n",
    "def ctd(df):\n",
    "  columns = df.columns[df.isna().any()].tolist()\n",
    "  return columns\n",
    "ctd(df)"
   ]
  },
  {
   "cell_type": "code",
   "execution_count": 46,
   "metadata": {},
   "outputs": [
    {
     "output_type": "stream",
     "name": "stdout",
     "text": [
      "Description of training set\nShape: \t\t\t (35016, 12)\n#NaNs: \t\t\t 0\n"
     ]
    }
   ],
   "source": [
    "df.dropna(inplace=True)\n",
    "details(df)"
   ]
  },
  {
   "cell_type": "code",
   "execution_count": 47,
   "metadata": {},
   "outputs": [
    {
     "output_type": "execute_result",
     "data": {
      "text/plain": [
       "         make    model  priceUSD  year     condition  mileage(kilometers)  \\\n",
       "0       honda   accord       565    27  with mileage             960015.0   \n",
       "1        ford   fusion      5550    12  with mileage             172000.0   \n",
       "2      nissan    teana      8300    12  with mileage             223000.0   \n",
       "3  volkswagen      fox      3300    15  with mileage             140000.0   \n",
       "4      nissan  primera      2450    18   with damage             413000.0   \n",
       "\n",
       "  fuel_type  volume(cm3)     color transmission         drive_unit segment  \n",
       "0    petrol       2000.0     black    mechanics  front-wheel drive       D  \n",
       "1    diesel       1400.0    silver    mechanics  front-wheel drive       M  \n",
       "2    petrol       2500.0    purple         auto  front-wheel drive       D  \n",
       "3    petrol       1200.0      blue    mechanics  front-wheel drive       A  \n",
       "4    diesel       2200.0  burgundy    mechanics  front-wheel drive       D  "
      ],
      "text/html": "<div>\n<style scoped>\n    .dataframe tbody tr th:only-of-type {\n        vertical-align: middle;\n    }\n\n    .dataframe tbody tr th {\n        vertical-align: top;\n    }\n\n    .dataframe thead th {\n        text-align: right;\n    }\n</style>\n<table border=\"1\" class=\"dataframe\">\n  <thead>\n    <tr style=\"text-align: right;\">\n      <th></th>\n      <th>make</th>\n      <th>model</th>\n      <th>priceUSD</th>\n      <th>year</th>\n      <th>condition</th>\n      <th>mileage(kilometers)</th>\n      <th>fuel_type</th>\n      <th>volume(cm3)</th>\n      <th>color</th>\n      <th>transmission</th>\n      <th>drive_unit</th>\n      <th>segment</th>\n    </tr>\n  </thead>\n  <tbody>\n    <tr>\n      <th>0</th>\n      <td>honda</td>\n      <td>accord</td>\n      <td>565</td>\n      <td>27</td>\n      <td>with mileage</td>\n      <td>960015.0</td>\n      <td>petrol</td>\n      <td>2000.0</td>\n      <td>black</td>\n      <td>mechanics</td>\n      <td>front-wheel drive</td>\n      <td>D</td>\n    </tr>\n    <tr>\n      <th>1</th>\n      <td>ford</td>\n      <td>fusion</td>\n      <td>5550</td>\n      <td>12</td>\n      <td>with mileage</td>\n      <td>172000.0</td>\n      <td>diesel</td>\n      <td>1400.0</td>\n      <td>silver</td>\n      <td>mechanics</td>\n      <td>front-wheel drive</td>\n      <td>M</td>\n    </tr>\n    <tr>\n      <th>2</th>\n      <td>nissan</td>\n      <td>teana</td>\n      <td>8300</td>\n      <td>12</td>\n      <td>with mileage</td>\n      <td>223000.0</td>\n      <td>petrol</td>\n      <td>2500.0</td>\n      <td>purple</td>\n      <td>auto</td>\n      <td>front-wheel drive</td>\n      <td>D</td>\n    </tr>\n    <tr>\n      <th>3</th>\n      <td>volkswagen</td>\n      <td>fox</td>\n      <td>3300</td>\n      <td>15</td>\n      <td>with mileage</td>\n      <td>140000.0</td>\n      <td>petrol</td>\n      <td>1200.0</td>\n      <td>blue</td>\n      <td>mechanics</td>\n      <td>front-wheel drive</td>\n      <td>A</td>\n    </tr>\n    <tr>\n      <th>4</th>\n      <td>nissan</td>\n      <td>primera</td>\n      <td>2450</td>\n      <td>18</td>\n      <td>with damage</td>\n      <td>413000.0</td>\n      <td>diesel</td>\n      <td>2200.0</td>\n      <td>burgundy</td>\n      <td>mechanics</td>\n      <td>front-wheel drive</td>\n      <td>D</td>\n    </tr>\n  </tbody>\n</table>\n</div>"
     },
     "metadata": {},
     "execution_count": 47
    }
   ],
   "source": [
    "import datetime\n",
    "df['year']=datetime.datetime.now().year-df['year']\n",
    "df.head()"
   ]
  },
  {
   "cell_type": "code",
   "execution_count": 48,
   "metadata": {},
   "outputs": [
    {
     "output_type": "stream",
     "name": "stdout",
     "text": [
      "Unique values for  make  :  51\nUnique values for  model  :  458\nUnique values for  priceUSD  :  2328\nUnique values for  year  :  62\nUnique values for  condition  :  3\nUnique values for  mileage(kilometers)  :  5755\nUnique values for  fuel_type  :  2\nUnique values for  volume(cm3)  :  352\nUnique values for  color  :  13\nUnique values for  transmission  :  2\nUnique values for  drive_unit  :  4\nUnique values for  segment  :  9\n"
     ]
    }
   ],
   "source": [
    "def description(df):\n",
    "  for cols in df.columns:\n",
    "    print('Unique values for ',cols,' : ',len(df[cols].unique()))\n",
    "description(df)"
   ]
  },
  {
   "cell_type": "code",
   "execution_count": 49,
   "metadata": {},
   "outputs": [
    {
     "output_type": "execute_result",
     "data": {
      "text/plain": [
       "Index(['make', 'model', 'priceUSD', 'year', 'condition', 'mileage(kilometers)',\n",
       "       'fuel_type', 'volume(cm3)', 'color', 'transmission', 'drive_unit',\n",
       "       'segment'],\n",
       "      dtype='object')"
      ]
     },
     "metadata": {},
     "execution_count": 49
    }
   ],
   "source": [
    "df.columns"
   ]
  },
  {
   "cell_type": "code",
   "execution_count": 50,
   "metadata": {},
   "outputs": [],
   "source": [
    "categorical = ['make', 'model',  'condition',\n",
    "       'fuel_type', 'color', 'transmission', 'drive_unit','segment']\n",
    "numerical = ['priceUSD','year','mileage(kilometers)','volume(cm3)']"
   ]
  },
  {
   "cell_type": "code",
   "execution_count": 33,
   "metadata": {},
   "outputs": [],
   "source": [
    "# for col in df.columns: \n",
    "#     try:      \n",
    "#         df[col] = pd.to_numeric(df[col]) \n",
    "#         df.hist(column=col)\n",
    "        \n",
    "#     except ValueError:\n",
    "#         sns.countplot(df[col], color='gray')\n",
    "#         # df[col].value_counts().plot(kind='bar')\n",
    "#         # print('This column can not be represented as a histogram')"
   ]
  },
  {
   "cell_type": "code",
   "execution_count": 32,
   "metadata": {},
   "outputs": [],
   "source": [
    "# df['segment'].value_counts().plot(kind='bar')"
   ]
  },
  {
   "cell_type": "code",
   "execution_count": null,
   "metadata": {},
   "outputs": [],
   "source": []
  }
 ]
}